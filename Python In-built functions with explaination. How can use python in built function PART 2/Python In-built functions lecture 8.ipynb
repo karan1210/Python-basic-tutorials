{
 "cells": [
  {
   "cell_type": "code",
   "execution_count": 1,
   "metadata": {},
   "outputs": [
    {
     "name": "stdout",
     "output_type": "stream",
     "text": [
      "abs()\n",
      "\n",
      "Returns the absolute value of a number\n",
      "\n",
      "all()\n",
      "\n",
      "Returns True if all items in an iterable object are true\n",
      "\n",
      "any()\n",
      "\n",
      "Returns True if any item in an iterable object is true\n",
      "\n",
      "ascii()\n",
      "\n",
      "Returns a readable version of an object. Replaces none-ascii characters with escape character\n",
      "\n",
      "bin()\n",
      "\n",
      "Returns the binary version of a number\n",
      "\n",
      "bool()\n",
      "\n",
      "Returns the boolean value of the specified object\n",
      "\n",
      "bytearray()\n",
      "\n",
      "Returns an array of bytes\n",
      "\n",
      "bytes()\n",
      "\n",
      "Returns a bytes object\n",
      "\n",
      "callable()\n",
      "\n",
      "Returns True if the specified object is callable, otherwise False\n",
      "\n",
      "chr()\n",
      "\n",
      "Returns a character from the specified Unicode code.\n",
      "\n",
      "classmethod()\n",
      "\n",
      "Converts a method into a class method\n",
      "\n",
      "compile()\n",
      "\n",
      "Returns the specified source as an object, ready to be executed\n",
      "\n",
      "complex()\n",
      "\n",
      "Returns a complex number\n",
      "\n",
      "delattr()\n",
      "\n",
      "Deletes the specified attribute (property or method) from the specified object\n",
      "\n",
      "dict()\n",
      "\n",
      "Returns a dictionary (Array)\n",
      "\n",
      "dir()\n",
      "\n",
      "Returns a list of the specified object's properties and methods\n",
      "\n",
      "divmod()\n",
      "\n",
      "Returns the quotient and the remainder when argument1 is divided by argument2\n",
      "\n",
      "enumerate()\n",
      "\n",
      "Takes a collection (e.g. a tuple) and returns it as an enumerate object\n",
      "\n",
      "eval()\n",
      "\n",
      "Evaluates and executes an expression\n",
      "\n",
      "exec()\n",
      "\n",
      "Executes the specified code (or object)\n",
      "\n",
      "filter()\n",
      "\n",
      "Use a filter function to exclude items in an iterable object\n",
      "\n",
      "float()\n",
      "\n",
      "Returns a floating point number\n",
      "\n",
      "format()\n",
      "\n",
      "Formats a specified value\n",
      "\n",
      "frozenset()\n",
      "\n",
      "Returns a frozenset object\n",
      "\n",
      "getattr()\n",
      "\n",
      "Returns the value of the specified attribute (property or method)\n",
      "\n",
      "globals()\n",
      "\n",
      "Returns the current global symbol table as a dictionary\n",
      "\n",
      "hasattr()\n",
      "\n",
      "Returns True if the specified object has the specified attribute (property/method)\n",
      "\n",
      "hash()\n",
      "\n",
      "Returns the hash value of a specified object\n",
      "\n",
      "help()\n",
      "\n",
      "Executes the built-in help system\n",
      "\n",
      "hex()\n",
      "\n",
      "Converts a number into a hexadecimal value\n",
      "\n",
      "id()\n",
      "\n",
      "Returns the id of an object\n",
      "\n",
      "input()\n",
      "\n",
      "Allowing user input\n",
      "\n",
      "int()\n",
      "\n",
      "Returns an integer number\n",
      "\n",
      "isinstance()\n",
      "\n",
      "Returns True if a specified object is an instance of a specified object\n",
      "\n",
      "issubclass()\n",
      "\n",
      "Returns True if a specified class is a subclass of a specified object\n",
      "\n",
      "iter()\n",
      "\n",
      "Returns an iterator object\n",
      "\n",
      "len()\n",
      "\n",
      "Returns the length of an object\n",
      "\n",
      "list()\n",
      "\n",
      "Returns a list\n",
      "\n",
      "locals()\n",
      "\n",
      "Returns an updated dictionary of the current local symbol table\n",
      "\n",
      "map()\n",
      "\n",
      "Returns the specified iterator with the specified function applied to each item\n",
      "\n",
      "max()\n",
      "\n",
      "Returns the largest item in an iterable\n",
      "\n",
      "memoryview()\n",
      "\n",
      "Returns a memory view object\n",
      "\n",
      "min()\n",
      "\n",
      "Returns the smallest item in an iterable\n",
      "\n",
      "next()\n",
      "\n",
      "Returns the next item in an iterable\n",
      "\n",
      "object()\n",
      "\n",
      "Returns a new object\n",
      "\n",
      "oct()\n",
      "\n",
      "Converts a number into an octal\n",
      "\n",
      "open()\n",
      "\n",
      "Opens a file and returns a file object\n",
      "\n",
      "ord()\n",
      "\n",
      "Convert an integer representing the Unicode of the specified character\n",
      "\n",
      "pow()\n",
      "\n",
      "Returns the value of x to the power of y\n",
      "\n",
      "print()\n",
      "\n",
      "Prints to the standard output device\n",
      "\n",
      "property()\n",
      "\n",
      "Gets, sets, deletes a property\n",
      "\n",
      "range()\n",
      "\n",
      "Returns a sequence of numbers, starting from 0 and increments by 1 (by default)\n",
      "\n",
      "repr()\n",
      "\n",
      "Returns a readable version of an object\n",
      "\n",
      "reversed()\n",
      "\n",
      "Returns a reversed iterator\n",
      "\n",
      "round()\n",
      "\n",
      "Rounds a numbers\n",
      "\n",
      "set()\n",
      "\n",
      "Returns a new set object\n",
      "\n",
      "setattr()\n",
      "\n",
      "Sets an attribute (property/method) of an object\n",
      "\n",
      "slice()\n",
      "\n",
      "Returns a slice object\n",
      "\n",
      "sorted()\n",
      "\n",
      "Returns a sorted list\n",
      "\n",
      "@staticmethod()\n",
      "\n",
      "Converts a method into a static method\n",
      "\n",
      "str()\n",
      "\n",
      "Returns a string object\n",
      "\n",
      "sum()\n",
      "\n",
      "Sums the items of an iterator\n",
      "\n",
      "super()\n",
      "\n",
      "Returns an object that represents the parent class\n",
      "\n",
      "tuple()\n",
      "\n",
      "Returns a tuple\n",
      "\n",
      "type()\n",
      "\n",
      "Returns the type of an object\n",
      "\n",
      "vars()\n",
      "\n",
      "Returns the __dict__ property of an object\n",
      "\n",
      "zip()\n",
      "\n",
      "Returns an iterator, from two or more iterators\n"
     ]
    }
   ],
   "source": [
    "import docx2txt\n",
    "my_text = docx2txt.process(\"Basic inbuilt commands.docx\")\n",
    "print(my_text)"
   ]
  },
  {
   "cell_type": "code",
   "execution_count": 3,
   "metadata": {},
   "outputs": [],
   "source": [
    "# filter()\n",
    "\n",
    "# what filter function do ? \n",
    "\n",
    "# filter(function, iterable)\n",
    "\n",
    "# function:   A Function to be run for each item in the iterable\n",
    "# iterable:   The iterable to be filtered\n",
    "\n",
    "# for example: you define name = [xvc, ohg, ger, gea, y4eg,] then name is iterable"
   ]
  },
  {
   "cell_type": "code",
   "execution_count": 50,
   "metadata": {},
   "outputs": [
    {
     "data": {
      "text/plain": [
       "3.5"
      ]
     },
     "execution_count": 50,
     "metadata": {},
     "output_type": "execute_result"
    }
   ],
   "source": [
    "x = float(\"3.5000000\")\n",
    "x"
   ]
  },
  {
   "cell_type": "code",
   "execution_count": 52,
   "metadata": {},
   "outputs": [
    {
     "data": {
      "text/plain": [
       "'+0.75'"
      ]
     },
     "execution_count": 52,
     "metadata": {},
     "output_type": "execute_result"
    }
   ],
   "source": [
    "x = format(0.75, '+')\n",
    "x\n",
    "\n",
    "#format The format you want to format the value into.\n",
    "\n",
    "#Legal values:\n",
    "#'<' - Left aligns the result (within the available space)\n",
    "#'>' - Right aligns the result (within the available space)\n",
    "#'^' - Center aligns the result (within the available space)\n",
    "#'=' - Places the sign to the left most position\n",
    "#'+' - Use a plus sign to indicate if the result is positive or negative\n",
    "#'-' - Use a minus sign for negative values only\n",
    "#',' - Use a comma as a thousand separator\n",
    "#'_' - Use a underscore as a thousand separator\n",
    "#'b' - Binary format\n",
    "#'o' - Octal format\n",
    "#'x' - Hex format, lower case\n",
    "#'X' - Hex format, upper case\n",
    "#'n' - Number format\n",
    "#'%' - Percentage format"
   ]
  },
  {
   "cell_type": "code",
   "execution_count": 55,
   "metadata": {},
   "outputs": [
    {
     "name": "stdout",
     "output_type": "stream",
     "text": [
      "\n",
      "Welcome to Python 3.7's help utility!\n",
      "\n",
      "If this is your first time using Python, you should definitely check out\n",
      "the tutorial on the Internet at https://docs.python.org/3.7/tutorial/.\n",
      "\n",
      "Enter the name of any module, keyword, or topic to get help on writing\n",
      "Python programs and using Python modules.  To quit this help utility and\n",
      "return to the interpreter, just type \"quit\".\n",
      "\n",
      "To get a list of available modules, keywords, symbols, or topics, type\n",
      "\"modules\", \"keywords\", \"symbols\", or \"topics\".  Each module also comes\n",
      "with a one-line summary of what it does; to list the modules whose name\n",
      "or summary contain a given string such as \"spam\", type \"modules spam\".\n",
      "\n",
      "help> quit\n",
      "\n",
      "You are now leaving help and returning to the Python interpreter.\n",
      "If you want to ask for help on a particular object directly from the\n",
      "interpreter, you can type \"help(object)\".  Executing \"help('string')\"\n",
      "has the same effect as typing a particular string at the help> prompt.\n"
     ]
    }
   ],
   "source": [
    "help()\n",
    "\n",
    "#Try it on your computer"
   ]
  },
  {
   "cell_type": "code",
   "execution_count": 57,
   "metadata": {},
   "outputs": [
    {
     "data": {
      "text/plain": [
       "'0xa'"
      ]
     },
     "execution_count": 57,
     "metadata": {},
     "output_type": "execute_result"
    }
   ],
   "source": [
    "h = hex(10)\n",
    "h\n",
    "\n",
    "# 0x is prefix"
   ]
  },
  {
   "cell_type": "code",
   "execution_count": 58,
   "metadata": {},
   "outputs": [
    {
     "name": "stdout",
     "output_type": "stream",
     "text": [
      "write your name here:  karan\n"
     ]
    },
    {
     "data": {
      "text/plain": [
       "'karan'"
      ]
     },
     "execution_count": 58,
     "metadata": {},
     "output_type": "execute_result"
    }
   ],
   "source": [
    "input('write your name here:  ')"
   ]
  },
  {
   "cell_type": "code",
   "execution_count": 59,
   "metadata": {},
   "outputs": [
    {
     "data": {
      "text/plain": [
       "8356298"
      ]
     },
     "execution_count": 59,
     "metadata": {},
     "output_type": "execute_result"
    }
   ],
   "source": [
    "x = 8356298.23590259025\n",
    "x = int(x)\n",
    "x"
   ]
  },
  {
   "cell_type": "code",
   "execution_count": 61,
   "metadata": {},
   "outputs": [
    {
     "data": {
      "text/plain": [
       "11"
      ]
     },
     "execution_count": 61,
     "metadata": {},
     "output_type": "execute_result"
    }
   ],
   "source": [
    "name = [\"k\", \"a\", \"r\", \"a\", \"n\"]\n",
    "x = len('karan_patel')\n",
    "x"
   ]
  },
  {
   "cell_type": "code",
   "execution_count": 72,
   "metadata": {},
   "outputs": [
    {
     "name": "stdout",
     "output_type": "stream",
     "text": [
      "max 9.30000000001\n",
      "min 6.97\n"
     ]
    }
   ],
   "source": [
    "marks = [6.97, 7.93, 7.93, 8.3, 8.7 , 9.3, 9.30000000001]\n",
    "\n",
    "x = max(marks)\n",
    "print('max', x)\n",
    "\n",
    "M = min(marks)\n",
    "print('min', M )"
   ]
  },
  {
   "cell_type": "code",
   "execution_count": 73,
   "metadata": {},
   "outputs": [
    {
     "data": {
      "text/plain": [
       "'0o30041'"
      ]
     },
     "execution_count": 73,
     "metadata": {},
     "output_type": "execute_result"
    }
   ],
   "source": [
    "# Convert the number into an octal value:\n",
    "\n",
    "x = oct(12321)\n",
    "x\n",
    "\n",
    "#0o is prefix"
   ]
  },
  {
   "cell_type": "code",
   "execution_count": 74,
   "metadata": {},
   "outputs": [
    {
     "name": "stdout",
     "output_type": "stream",
     "text": [
      "Hello ______ how are you?\n"
     ]
    }
   ],
   "source": [
    "# print\n",
    "\n",
    "print(\"Hello\", \"how are you?\", sep =\" ______ \")\n"
   ]
  },
  {
   "cell_type": "code",
   "execution_count": 75,
   "metadata": {},
   "outputs": [
    {
     "name": "stdout",
     "output_type": "stream",
     "text": [
      "range(0, 10)\n",
      "0\n",
      "1\n",
      "2\n",
      "3\n",
      "4\n",
      "5\n",
      "6\n",
      "7\n",
      "8\n",
      "9\n"
     ]
    }
   ],
   "source": [
    "x = range(10)\n",
    "print(x)\n",
    "for n in x:\n",
    "  print(n)"
   ]
  },
  {
   "cell_type": "code",
   "execution_count": 76,
   "metadata": {},
   "outputs": [
    {
     "data": {
      "text/plain": [
       "58.43000000001"
      ]
     },
     "execution_count": 76,
     "metadata": {},
     "output_type": "execute_result"
    }
   ],
   "source": [
    "x = sum(marks)\n",
    "x"
   ]
  },
  {
   "cell_type": "code",
   "execution_count": null,
   "metadata": {},
   "outputs": [],
   "source": []
  }
 ],
 "metadata": {
  "kernelspec": {
   "display_name": "Python 3",
   "language": "python",
   "name": "python3"
  },
  "language_info": {
   "codemirror_mode": {
    "name": "ipython",
    "version": 3
   },
   "file_extension": ".py",
   "mimetype": "text/x-python",
   "name": "python",
   "nbconvert_exporter": "python",
   "pygments_lexer": "ipython3",
   "version": "3.7.6"
  }
 },
 "nbformat": 4,
 "nbformat_minor": 4
}
