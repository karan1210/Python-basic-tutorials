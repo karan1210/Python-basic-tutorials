{
 "cells": [
  {
   "cell_type": "markdown",
   "metadata": {},
   "source": [
    "# 16 In-buit Python Functions"
   ]
  },
  {
   "cell_type": "code",
   "execution_count": 47,
   "metadata": {},
   "outputs": [
    {
     "name": "stdout",
     "output_type": "stream",
     "text": [
      "abs()\n",
      "\n",
      "Returns the absolute value of a number\n",
      "\n",
      "all()\n",
      "\n",
      "Returns True if all items in an iterable object are true\n",
      "\n",
      "any()\n",
      "\n",
      "Returns True if any item in an iterable object is true\n",
      "\n",
      "ascii()\n",
      "\n",
      "Returns a readable version of an object. Replaces none-ascii characters with escape character\n",
      "\n",
      "bin()\n",
      "\n",
      "Returns the binary version of a number\n",
      "\n",
      "bool()\n",
      "\n",
      "Returns the boolean value of the specified object\n",
      "\n",
      "bytearray()\n",
      "\n",
      "Returns an array of bytes\n",
      "\n",
      "bytes()\n",
      "\n",
      "Returns a bytes object\n",
      "\n",
      "callable()\n",
      "\n",
      "Returns True if the specified object is callable, otherwise False\n",
      "\n",
      "chr()\n",
      "\n",
      "Returns a character from the specified Unicode code.\n",
      "\n",
      "classmethod()\n",
      "\n",
      "Converts a method into a class method\n",
      "\n",
      "compile()\n",
      "\n",
      "Returns the specified source as an object, ready to be executed\n",
      "\n",
      "complex()\n",
      "\n",
      "Returns a complex number\n",
      "\n",
      "delattr()\n",
      "\n",
      "Deletes the specified attribute (property or method) from the specified object\n",
      "\n",
      "dict()\n",
      "\n",
      "Returns a dictionary (Array)\n",
      "\n",
      "dir()\n",
      "\n",
      "Returns a list of the specified object's properties and methods\n",
      "\n",
      "divmod()\n",
      "\n",
      "Returns the quotient and the remainder when argument1 is divided by argument2\n",
      "\n",
      "enumerate()\n",
      "\n",
      "Takes a collection (e.g. a tuple) and returns it as an enumerate object\n",
      "\n",
      "eval()\n",
      "\n",
      "Evaluates and executes an expression\n",
      "\n",
      "exec()\n",
      "\n",
      "Executes the specified code (or object)\n",
      "\n",
      "filter()\n",
      "\n",
      "Use a filter function to exclude items in an iterable object\n",
      "\n",
      "float()\n",
      "\n",
      "Returns a floating point number\n",
      "\n",
      "format()\n",
      "\n",
      "Formats a specified value\n",
      "\n",
      "frozenset()\n",
      "\n",
      "Returns a frozenset object\n",
      "\n",
      "getattr()\n",
      "\n",
      "Returns the value of the specified attribute (property or method)\n",
      "\n",
      "globals()\n",
      "\n",
      "Returns the current global symbol table as a dictionary\n",
      "\n",
      "hasattr()\n",
      "\n",
      "Returns True if the specified object has the specified attribute (property/method)\n",
      "\n",
      "hash()\n",
      "\n",
      "Returns the hash value of a specified object\n",
      "\n",
      "help()\n",
      "\n",
      "Executes the built-in help system\n",
      "\n",
      "hex()\n",
      "\n",
      "Converts a number into a hexadecimal value\n",
      "\n",
      "id()\n",
      "\n",
      "Returns the id of an object\n",
      "\n",
      "input()\n",
      "\n",
      "Allowing user input\n",
      "\n",
      "int()\n",
      "\n",
      "Returns an integer number\n",
      "\n",
      "isinstance()\n",
      "\n",
      "Returns True if a specified object is an instance of a specified object\n",
      "\n",
      "issubclass()\n",
      "\n",
      "Returns True if a specified class is a subclass of a specified object\n",
      "\n",
      "iter()\n",
      "\n",
      "Returns an iterator object\n",
      "\n",
      "len()\n",
      "\n",
      "Returns the length of an object\n",
      "\n",
      "list()\n",
      "\n",
      "Returns a list\n",
      "\n",
      "locals()\n",
      "\n",
      "Returns an updated dictionary of the current local symbol table\n",
      "\n",
      "map()\n",
      "\n",
      "Returns the specified iterator with the specified function applied to each item\n",
      "\n",
      "max()\n",
      "\n",
      "Returns the largest item in an iterable\n",
      "\n",
      "memoryview()\n",
      "\n",
      "Returns a memory view object\n",
      "\n",
      "min()\n",
      "\n",
      "Returns the smallest item in an iterable\n",
      "\n",
      "next()\n",
      "\n",
      "Returns the next item in an iterable\n",
      "\n",
      "object()\n",
      "\n",
      "Returns a new object\n",
      "\n",
      "oct()\n",
      "\n",
      "Converts a number into an octal\n",
      "\n",
      "open()\n",
      "\n",
      "Opens a file and returns a file object\n",
      "\n",
      "ord()\n",
      "\n",
      "Convert an integer representing the Unicode of the specified character\n",
      "\n",
      "pow()\n",
      "\n",
      "Returns the value of x to the power of y\n",
      "\n",
      "print()\n",
      "\n",
      "Prints to the standard output device\n",
      "\n",
      "property()\n",
      "\n",
      "Gets, sets, deletes a property\n",
      "\n",
      "range()\n",
      "\n",
      "Returns a sequence of numbers, starting from 0 and increments by 1 (by default)\n",
      "\n",
      "repr()\n",
      "\n",
      "Returns a readable version of an object\n",
      "\n",
      "reversed()\n",
      "\n",
      "Returns a reversed iterator\n",
      "\n",
      "round()\n",
      "\n",
      "Rounds a numbers\n",
      "\n",
      "set()\n",
      "\n",
      "Returns a new set object\n",
      "\n",
      "setattr()\n",
      "\n",
      "Sets an attribute (property/method) of an object\n",
      "\n",
      "slice()\n",
      "\n",
      "Returns a slice object\n",
      "\n",
      "sorted()\n",
      "\n",
      "Returns a sorted list\n",
      "\n",
      "@staticmethod()\n",
      "\n",
      "Converts a method into a static method\n",
      "\n",
      "str()\n",
      "\n",
      "Returns a string object\n",
      "\n",
      "sum()\n",
      "\n",
      "Sums the items of an iterator\n",
      "\n",
      "super()\n",
      "\n",
      "Returns an object that represents the parent class\n",
      "\n",
      "tuple()\n",
      "\n",
      "Returns a tuple\n",
      "\n",
      "type()\n",
      "\n",
      "Returns the type of an object\n",
      "\n",
      "vars()\n",
      "\n",
      "Returns the __dict__ property of an object\n",
      "\n",
      "zip()\n",
      "\n",
      "Returns an iterator, from two or more iterators\n"
     ]
    }
   ],
   "source": [
    "import docx2txt\n",
    "my_text = docx2txt.process(\"Basic inbuilt commands.docx\")\n",
    "print(my_text)"
   ]
  },
  {
   "cell_type": "code",
   "execution_count": 62,
   "metadata": {},
   "outputs": [
    {
     "name": "stdout",
     "output_type": "stream",
     "text": [
      "16.23\n"
     ]
    }
   ],
   "source": [
    "k = abs(-16.23)\n",
    "print(k)"
   ]
  },
  {
   "cell_type": "code",
   "execution_count": 65,
   "metadata": {},
   "outputs": [
    {
     "name": "stdout",
     "output_type": "stream",
     "text": [
      "True\n",
      "False\n",
      "True\n"
     ]
    }
   ],
   "source": [
    "# The all() function returns True if all items in an iterable are true, otherwise it returns False.\n",
    "\n",
    "# If the iterable object is empty, the all() function also returns True.\n",
    "\n",
    "\n",
    "k = all('0')\n",
    "print(k)\n",
    "\n",
    "# In which case all function print \"FALSE\" \n",
    "\n",
    "myset = {0, 1, 0}\n",
    "x = all(myset) # ALL \n",
    "print(x)\n",
    "\n",
    "#If you replace all 0s by 1s, then list is iterable and in that case you find \"TRUE\"\n",
    "\n",
    "#Use of any function.\n",
    "\n",
    "myset = {0, 1, 0}\n",
    "x = any(myset)\n",
    "print(x)"
   ]
  },
  {
   "cell_type": "code",
   "execution_count": 66,
   "metadata": {},
   "outputs": [
    {
     "name": "stdout",
     "output_type": "stream",
     "text": [
      "0b1100100\n"
     ]
    }
   ],
   "source": [
    "binary = bin(100)\n",
    "\n",
    "print(binary)\n",
    "\n",
    "# Make sure that \"0b\" is prefix "
   ]
  },
  {
   "cell_type": "code",
   "execution_count": 76,
   "metadata": {},
   "outputs": [
    {
     "name": "stdout",
     "output_type": "stream",
     "text": [
      "True\n"
     ]
    }
   ],
   "source": [
    "# OR gate\n",
    "\n",
    "x = bool(11)\n",
    "\n",
    "print(x)"
   ]
  },
  {
   "cell_type": "code",
   "execution_count": 77,
   "metadata": {},
   "outputs": [
    {
     "data": {
      "text/plain": [
       "bytearray(b'\\x00\\x00\\x00\\x00\\x00\\x00\\x00')"
      ]
     },
     "execution_count": 77,
     "metadata": {},
     "output_type": "execute_result"
    }
   ],
   "source": [
    "k = bytearray(7)\n",
    "k"
   ]
  },
  {
   "cell_type": "code",
   "execution_count": 78,
   "metadata": {},
   "outputs": [
    {
     "data": {
      "text/plain": [
       "b'\\x00\\x00\\x00\\x00'"
      ]
     },
     "execution_count": 78,
     "metadata": {},
     "output_type": "execute_result"
    }
   ],
   "source": [
    "k = bytes(4)\n",
    "k"
   ]
  },
  {
   "cell_type": "code",
   "execution_count": 79,
   "metadata": {},
   "outputs": [
    {
     "name": "stdout",
     "output_type": "stream",
     "text": [
      "True\n",
      "True\n"
     ]
    }
   ],
   "source": [
    "# Try call function\n",
    "def karan(): \n",
    "    return 5\n",
    "  \n",
    "# an object is created of karan() \n",
    "\n",
    "let = karan \n",
    "print(callable(let)) \n",
    "  \n",
    "# a test variable \n",
    "\n",
    "def python():\n",
    "    num_1 = 15 * 15\n",
    "\n",
    "num = python\n",
    "\n",
    "print(callable(num))"
   ]
  },
  {
   "cell_type": "code",
   "execution_count": 83,
   "metadata": {},
   "outputs": [
    {
     "data": {
      "text/plain": [
       "'d'"
      ]
     },
     "execution_count": 83,
     "metadata": {},
     "output_type": "execute_result"
    }
   ],
   "source": [
    "k = chr(100)\n",
    "k"
   ]
  },
  {
   "cell_type": "code",
   "execution_count": 84,
   "metadata": {},
   "outputs": [
    {
     "name": "stdout",
     "output_type": "stream",
     "text": [
      "(2+3j)\n",
      "3.605551275463989\n"
     ]
    }
   ],
   "source": [
    "#It return complex number \n",
    "\n",
    "k = complex(2,3)\n",
    "print(k)\n",
    "\n",
    "# If you want to find value of complex number then...\n",
    "# solution of complex\n",
    "\n",
    "print(abs(k))"
   ]
  },
  {
   "cell_type": "code",
   "execution_count": 40,
   "metadata": {},
   "outputs": [],
   "source": [
    "# delattr() Deletes the specified attribute (property or method) from the specified object\n",
    "# If you made class then form that class you can delete the elements. "
   ]
  },
  {
   "cell_type": "code",
   "execution_count": 49,
   "metadata": {},
   "outputs": [
    {
     "name": "stdout",
     "output_type": "stream",
     "text": [
      "{'name': 'Karan', 'age': 21, 'country': 'India'}\n"
     ]
    }
   ],
   "source": [
    "# Returns a dictionary (Array)\n",
    "x = dict(name = \"Karan\", age = 21, country = \"India\")\n",
    "\n",
    "print(x)"
   ]
  },
  {
   "cell_type": "code",
   "execution_count": 85,
   "metadata": {},
   "outputs": [
    {
     "name": "stdout",
     "output_type": "stream",
     "text": [
      "(5, 0)\n"
     ]
    }
   ],
   "source": [
    "# Display the quotient and the remainder of number_1 divided by number_2:\n",
    "\n",
    "number_1 = 10\n",
    "number_2 = 2\n",
    "\n",
    "x = divmod(number_1, number_2)\n",
    "\n",
    "print(x)"
   ]
  },
  {
   "cell_type": "code",
   "execution_count": 58,
   "metadata": {},
   "outputs": [
    {
     "name": "stdout",
     "output_type": "stream",
     "text": [
      "[(0, 'A'), (1, 'B'), (2, 'C'), (3, 'D'), (4, 'E'), (5, 'F'), (6, 'G'), (7, 'H'), (8, 'I'), (9, 'J'), (10, 'K'), (11, 'L'), (12, 'M'), (13, 'N'), (14, 'O'), (15, 'P')]\n"
     ]
    }
   ],
   "source": [
    "# make a list \n",
    "\n",
    "x = ('A', 'B', 'C','D','E','F','G','H','I','J','K','L','M','N','O','P')\n",
    "\n",
    "y = enumerate(x)\n",
    "\n",
    "print(list(y))"
   ]
  },
  {
   "cell_type": "code",
   "execution_count": 60,
   "metadata": {},
   "outputs": [
    {
     "name": "stdout",
     "output_type": "stream",
     "text": [
      "55\n"
     ]
    }
   ],
   "source": [
    "#Use for evaluation of code\n",
    "x = 'print(55)'\n",
    "eval(x)"
   ]
  },
  {
   "cell_type": "code",
   "execution_count": null,
   "metadata": {},
   "outputs": [],
   "source": []
  },
  {
   "cell_type": "code",
   "execution_count": null,
   "metadata": {},
   "outputs": [],
   "source": []
  }
 ],
 "metadata": {
  "kernelspec": {
   "display_name": "Python 3",
   "language": "python",
   "name": "python3"
  },
  "language_info": {
   "codemirror_mode": {
    "name": "ipython",
    "version": 3
   },
   "file_extension": ".py",
   "mimetype": "text/x-python",
   "name": "python",
   "nbconvert_exporter": "python",
   "pygments_lexer": "ipython3",
   "version": "3.7.6"
  }
 },
 "nbformat": 4,
 "nbformat_minor": 4
}
